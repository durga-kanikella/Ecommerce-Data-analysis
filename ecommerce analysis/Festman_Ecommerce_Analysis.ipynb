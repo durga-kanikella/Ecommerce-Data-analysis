{
  "nbformat": 4,
  "nbformat_minor": 0,
  "metadata": {
    "colab": {
      "name": "Festman Ecommerce Analysis.ipynb",
      "provenance": [],
      "collapsed_sections": []
    },
    "kernelspec": {
      "name": "python3",
      "display_name": "Python 3"
    },
    "language_info": {
      "name": "python"
    }
  },
  "cells": [
    {
      "cell_type": "markdown",
      "source": [
        "#**#Ecommerce Data**"
      ],
      "metadata": {
        "id": "nPBgy0-Clp4X"
      }
    },
    {
      "cell_type": "markdown",
      "source": [
        "##**Import Libraries**"
      ],
      "metadata": {
        "id": "Yga0s4ErZupV"
      }
    },
    {
      "cell_type": "code",
      "execution_count": 1,
      "metadata": {
        "id": "hZiBPYLeYdyc"
      },
      "outputs": [],
      "source": [
        "import numpy as np\n",
        "import pandas as pd\n",
        "import matplotlib.pyplot as plt\n",
        "import seaborn as sns\n",
        "\n",
        "%matplotlib inline"
      ]
    },
    {
      "cell_type": "markdown",
      "source": [
        "##**Reading Data**\n",
        "df=Ecommerce Data set"
      ],
      "metadata": {
        "id": "pjB9QMckZ4my"
      }
    },
    {
      "cell_type": "code",
      "source": [
        "df=pd.read_excel('/content/FestMan Ecommerce Data Challenge.xlsx')\n",
        "df.head()"
      ],
      "metadata": {
        "colab": {
          "base_uri": "https://localhost:8080/",
          "height": 615
        },
        "id": "YttAxvVgZ3XB",
        "outputId": "733cadac-41a9-450e-de90-7a847358f3f2"
      },
      "execution_count": 4,
      "outputs": [
        {
          "output_type": "execute_result",
          "data": {
            "text/plain": [
              "   OrderDate  OrderID Delivery Date  CustomerID  Customer Age Customer Gender  \\\n",
              "0 2020-05-31  5136486    2020-06-04   230569424            57               M   \n",
              "1 2020-05-31  5136457    2020-06-12   230568182            24               F   \n",
              "2 2020-05-31  5136465    2020-06-10   230567584            31               M   \n",
              "3 2020-05-31  5136488    2020-06-05   230563788            62               F   \n",
              "4 2020-05-31  5136449    2020-06-10   230563726            18               F   \n",
              "\n",
              "        Location    Zone        Delivery Type   Product Category  \\\n",
              "0        Western  Zone 3              Express            Fashion   \n",
              "1        Western  Zone 3    Standard Delivery  Health and beauty   \n",
              "2          Weija  Zone 2    Standard Delivery  Health and beauty   \n",
              "3  Greater Accra  Zone 1              Express  Phones and Tablet   \n",
              "4          Weija  Zone 2  Shipped from Abroad            Fashion   \n",
              "\n",
              "                      SubCategory  \\\n",
              "0                  Girl's fashion   \n",
              "1  Medical supplies and Equipment   \n",
              "2  Medical supplies and Equipment   \n",
              "3                   Mobile phones   \n",
              "4                   Boy's fashion   \n",
              "\n",
              "                                             Product  Unit Price  \\\n",
              "0  Fashion Girl's Dress Kids Children Newborn Bab...       125.0   \n",
              "1  Blood Pressure Monitor Digital Wrist BP Pulse ...        63.2   \n",
              "2            Portable Blood Pressure Monitor - White       102.0   \n",
              "3  Samsung A3 Core Dual SIM - 16GB HDD - 1GB RAM ...       387.0   \n",
              "4        Boys Sneakers Casual Kids Sports Shoes-Gold       120.0   \n",
              "\n",
              "   Shipping Fee  Order Quantity  Sale Price     Status  \\\n",
              "0            10               2       125.0   Returned   \n",
              "1             4               7        63.2   Returned   \n",
              "2             6              10       102.0  Delivered   \n",
              "3             7               7       387.0  Delivered   \n",
              "4            12               9       120.0  Delivered   \n",
              "\n",
              "                              Reason  Rating  \n",
              "0       Onsite -Description mismatch       2  \n",
              "1  Product - Not fitting expectation       2  \n",
              "2                                NaN       3  \n",
              "3                                NaN       1  \n",
              "4                                NaN       3  "
            ],
            "text/html": [
              "\n",
              "  <div id=\"df-6711b0d7-a7e6-43e8-a10a-cf4aa6e2bfae\">\n",
              "    <div class=\"colab-df-container\">\n",
              "      <div>\n",
              "<style scoped>\n",
              "    .dataframe tbody tr th:only-of-type {\n",
              "        vertical-align: middle;\n",
              "    }\n",
              "\n",
              "    .dataframe tbody tr th {\n",
              "        vertical-align: top;\n",
              "    }\n",
              "\n",
              "    .dataframe thead th {\n",
              "        text-align: right;\n",
              "    }\n",
              "</style>\n",
              "<table border=\"1\" class=\"dataframe\">\n",
              "  <thead>\n",
              "    <tr style=\"text-align: right;\">\n",
              "      <th></th>\n",
              "      <th>OrderDate</th>\n",
              "      <th>OrderID</th>\n",
              "      <th>Delivery Date</th>\n",
              "      <th>CustomerID</th>\n",
              "      <th>Customer Age</th>\n",
              "      <th>Customer Gender</th>\n",
              "      <th>Location</th>\n",
              "      <th>Zone</th>\n",
              "      <th>Delivery Type</th>\n",
              "      <th>Product Category</th>\n",
              "      <th>SubCategory</th>\n",
              "      <th>Product</th>\n",
              "      <th>Unit Price</th>\n",
              "      <th>Shipping Fee</th>\n",
              "      <th>Order Quantity</th>\n",
              "      <th>Sale Price</th>\n",
              "      <th>Status</th>\n",
              "      <th>Reason</th>\n",
              "      <th>Rating</th>\n",
              "    </tr>\n",
              "  </thead>\n",
              "  <tbody>\n",
              "    <tr>\n",
              "      <th>0</th>\n",
              "      <td>2020-05-31</td>\n",
              "      <td>5136486</td>\n",
              "      <td>2020-06-04</td>\n",
              "      <td>230569424</td>\n",
              "      <td>57</td>\n",
              "      <td>M</td>\n",
              "      <td>Western</td>\n",
              "      <td>Zone 3</td>\n",
              "      <td>Express</td>\n",
              "      <td>Fashion</td>\n",
              "      <td>Girl's fashion</td>\n",
              "      <td>Fashion Girl's Dress Kids Children Newborn Bab...</td>\n",
              "      <td>125.0</td>\n",
              "      <td>10</td>\n",
              "      <td>2</td>\n",
              "      <td>125.0</td>\n",
              "      <td>Returned</td>\n",
              "      <td>Onsite -Description mismatch</td>\n",
              "      <td>2</td>\n",
              "    </tr>\n",
              "    <tr>\n",
              "      <th>1</th>\n",
              "      <td>2020-05-31</td>\n",
              "      <td>5136457</td>\n",
              "      <td>2020-06-12</td>\n",
              "      <td>230568182</td>\n",
              "      <td>24</td>\n",
              "      <td>F</td>\n",
              "      <td>Western</td>\n",
              "      <td>Zone 3</td>\n",
              "      <td>Standard Delivery</td>\n",
              "      <td>Health and beauty</td>\n",
              "      <td>Medical supplies and Equipment</td>\n",
              "      <td>Blood Pressure Monitor Digital Wrist BP Pulse ...</td>\n",
              "      <td>63.2</td>\n",
              "      <td>4</td>\n",
              "      <td>7</td>\n",
              "      <td>63.2</td>\n",
              "      <td>Returned</td>\n",
              "      <td>Product - Not fitting expectation</td>\n",
              "      <td>2</td>\n",
              "    </tr>\n",
              "    <tr>\n",
              "      <th>2</th>\n",
              "      <td>2020-05-31</td>\n",
              "      <td>5136465</td>\n",
              "      <td>2020-06-10</td>\n",
              "      <td>230567584</td>\n",
              "      <td>31</td>\n",
              "      <td>M</td>\n",
              "      <td>Weija</td>\n",
              "      <td>Zone 2</td>\n",
              "      <td>Standard Delivery</td>\n",
              "      <td>Health and beauty</td>\n",
              "      <td>Medical supplies and Equipment</td>\n",
              "      <td>Portable Blood Pressure Monitor - White</td>\n",
              "      <td>102.0</td>\n",
              "      <td>6</td>\n",
              "      <td>10</td>\n",
              "      <td>102.0</td>\n",
              "      <td>Delivered</td>\n",
              "      <td>NaN</td>\n",
              "      <td>3</td>\n",
              "    </tr>\n",
              "    <tr>\n",
              "      <th>3</th>\n",
              "      <td>2020-05-31</td>\n",
              "      <td>5136488</td>\n",
              "      <td>2020-06-05</td>\n",
              "      <td>230563788</td>\n",
              "      <td>62</td>\n",
              "      <td>F</td>\n",
              "      <td>Greater Accra</td>\n",
              "      <td>Zone 1</td>\n",
              "      <td>Express</td>\n",
              "      <td>Phones and Tablet</td>\n",
              "      <td>Mobile phones</td>\n",
              "      <td>Samsung A3 Core Dual SIM - 16GB HDD - 1GB RAM ...</td>\n",
              "      <td>387.0</td>\n",
              "      <td>7</td>\n",
              "      <td>7</td>\n",
              "      <td>387.0</td>\n",
              "      <td>Delivered</td>\n",
              "      <td>NaN</td>\n",
              "      <td>1</td>\n",
              "    </tr>\n",
              "    <tr>\n",
              "      <th>4</th>\n",
              "      <td>2020-05-31</td>\n",
              "      <td>5136449</td>\n",
              "      <td>2020-06-10</td>\n",
              "      <td>230563726</td>\n",
              "      <td>18</td>\n",
              "      <td>F</td>\n",
              "      <td>Weija</td>\n",
              "      <td>Zone 2</td>\n",
              "      <td>Shipped from Abroad</td>\n",
              "      <td>Fashion</td>\n",
              "      <td>Boy's fashion</td>\n",
              "      <td>Boys Sneakers Casual Kids Sports Shoes-Gold</td>\n",
              "      <td>120.0</td>\n",
              "      <td>12</td>\n",
              "      <td>9</td>\n",
              "      <td>120.0</td>\n",
              "      <td>Delivered</td>\n",
              "      <td>NaN</td>\n",
              "      <td>3</td>\n",
              "    </tr>\n",
              "  </tbody>\n",
              "</table>\n",
              "</div>\n",
              "      <button class=\"colab-df-convert\" onclick=\"convertToInteractive('df-6711b0d7-a7e6-43e8-a10a-cf4aa6e2bfae')\"\n",
              "              title=\"Convert this dataframe to an interactive table.\"\n",
              "              style=\"display:none;\">\n",
              "        \n",
              "  <svg xmlns=\"http://www.w3.org/2000/svg\" height=\"24px\"viewBox=\"0 0 24 24\"\n",
              "       width=\"24px\">\n",
              "    <path d=\"M0 0h24v24H0V0z\" fill=\"none\"/>\n",
              "    <path d=\"M18.56 5.44l.94 2.06.94-2.06 2.06-.94-2.06-.94-.94-2.06-.94 2.06-2.06.94zm-11 1L8.5 8.5l.94-2.06 2.06-.94-2.06-.94L8.5 2.5l-.94 2.06-2.06.94zm10 10l.94 2.06.94-2.06 2.06-.94-2.06-.94-.94-2.06-.94 2.06-2.06.94z\"/><path d=\"M17.41 7.96l-1.37-1.37c-.4-.4-.92-.59-1.43-.59-.52 0-1.04.2-1.43.59L10.3 9.45l-7.72 7.72c-.78.78-.78 2.05 0 2.83L4 21.41c.39.39.9.59 1.41.59.51 0 1.02-.2 1.41-.59l7.78-7.78 2.81-2.81c.8-.78.8-2.07 0-2.86zM5.41 20L4 18.59l7.72-7.72 1.47 1.35L5.41 20z\"/>\n",
              "  </svg>\n",
              "      </button>\n",
              "      \n",
              "  <style>\n",
              "    .colab-df-container {\n",
              "      display:flex;\n",
              "      flex-wrap:wrap;\n",
              "      gap: 12px;\n",
              "    }\n",
              "\n",
              "    .colab-df-convert {\n",
              "      background-color: #E8F0FE;\n",
              "      border: none;\n",
              "      border-radius: 50%;\n",
              "      cursor: pointer;\n",
              "      display: none;\n",
              "      fill: #1967D2;\n",
              "      height: 32px;\n",
              "      padding: 0 0 0 0;\n",
              "      width: 32px;\n",
              "    }\n",
              "\n",
              "    .colab-df-convert:hover {\n",
              "      background-color: #E2EBFA;\n",
              "      box-shadow: 0px 1px 2px rgba(60, 64, 67, 0.3), 0px 1px 3px 1px rgba(60, 64, 67, 0.15);\n",
              "      fill: #174EA6;\n",
              "    }\n",
              "\n",
              "    [theme=dark] .colab-df-convert {\n",
              "      background-color: #3B4455;\n",
              "      fill: #D2E3FC;\n",
              "    }\n",
              "\n",
              "    [theme=dark] .colab-df-convert:hover {\n",
              "      background-color: #434B5C;\n",
              "      box-shadow: 0px 1px 3px 1px rgba(0, 0, 0, 0.15);\n",
              "      filter: drop-shadow(0px 1px 2px rgba(0, 0, 0, 0.3));\n",
              "      fill: #FFFFFF;\n",
              "    }\n",
              "  </style>\n",
              "\n",
              "      <script>\n",
              "        const buttonEl =\n",
              "          document.querySelector('#df-6711b0d7-a7e6-43e8-a10a-cf4aa6e2bfae button.colab-df-convert');\n",
              "        buttonEl.style.display =\n",
              "          google.colab.kernel.accessAllowed ? 'block' : 'none';\n",
              "\n",
              "        async function convertToInteractive(key) {\n",
              "          const element = document.querySelector('#df-6711b0d7-a7e6-43e8-a10a-cf4aa6e2bfae');\n",
              "          const dataTable =\n",
              "            await google.colab.kernel.invokeFunction('convertToInteractive',\n",
              "                                                     [key], {});\n",
              "          if (!dataTable) return;\n",
              "\n",
              "          const docLinkHtml = 'Like what you see? Visit the ' +\n",
              "            '<a target=\"_blank\" href=https://colab.research.google.com/notebooks/data_table.ipynb>data table notebook</a>'\n",
              "            + ' to learn more about interactive tables.';\n",
              "          element.innerHTML = '';\n",
              "          dataTable['output_type'] = 'display_data';\n",
              "          await google.colab.output.renderOutput(dataTable, element);\n",
              "          const docLink = document.createElement('div');\n",
              "          docLink.innerHTML = docLinkHtml;\n",
              "          element.appendChild(docLink);\n",
              "        }\n",
              "      </script>\n",
              "    </div>\n",
              "  </div>\n",
              "  "
            ]
          },
          "metadata": {},
          "execution_count": 4
        }
      ]
    },
    {
      "cell_type": "code",
      "source": [
        "df.shape"
      ],
      "metadata": {
        "colab": {
          "base_uri": "https://localhost:8080/"
        },
        "id": "A-83JUtJadzM",
        "outputId": "abd7d6dc-c3d2-4b32-e51b-b3143d2fb135"
      },
      "execution_count": 5,
      "outputs": [
        {
          "output_type": "execute_result",
          "data": {
            "text/plain": [
              "(113000, 19)"
            ]
          },
          "metadata": {},
          "execution_count": 5
        }
      ]
    },
    {
      "cell_type": "code",
      "source": [
        "df.columns"
      ],
      "metadata": {
        "colab": {
          "base_uri": "https://localhost:8080/"
        },
        "id": "R99kzRCzag40",
        "outputId": "a4a2502e-b8ce-43a1-f012-68bd1060a0ac"
      },
      "execution_count": 6,
      "outputs": [
        {
          "output_type": "execute_result",
          "data": {
            "text/plain": [
              "Index(['OrderDate', 'OrderID', 'Delivery Date', 'CustomerID', 'Customer Age',\n",
              "       'Customer Gender', 'Location', 'Zone', 'Delivery Type',\n",
              "       'Product Category', 'SubCategory', 'Product', 'Unit Price',\n",
              "       'Shipping Fee', 'Order Quantity', 'Sale Price', 'Status', 'Reason',\n",
              "       'Rating'],\n",
              "      dtype='object')"
            ]
          },
          "metadata": {},
          "execution_count": 6
        }
      ]
    },
    {
      "cell_type": "code",
      "source": [
        "obj_col_df=df.select_dtypes(include=object)\n",
        "obj_col_df.columns"
      ],
      "metadata": {
        "colab": {
          "base_uri": "https://localhost:8080/"
        },
        "id": "8_21_e9KamqW",
        "outputId": "d98092bd-f6d4-4a7e-bd3b-3fc7a1f7da57"
      },
      "execution_count": 7,
      "outputs": [
        {
          "output_type": "execute_result",
          "data": {
            "text/plain": [
              "Index(['Customer Gender', 'Location', 'Zone', 'Delivery Type',\n",
              "       'Product Category', 'SubCategory', 'Product', 'Status', 'Reason'],\n",
              "      dtype='object')"
            ]
          },
          "metadata": {},
          "execution_count": 7
        }
      ]
    },
    {
      "cell_type": "code",
      "source": [
        "numeric_col_df=df.select_dtypes(exclude=object)\n",
        "numeric_col_df.columns"
      ],
      "metadata": {
        "colab": {
          "base_uri": "https://localhost:8080/"
        },
        "id": "Ae3iut7SawRp",
        "outputId": "549d5951-4bcc-467a-ec64-b287a4d2c818"
      },
      "execution_count": 8,
      "outputs": [
        {
          "output_type": "execute_result",
          "data": {
            "text/plain": [
              "Index(['OrderDate', 'OrderID', 'Delivery Date', 'CustomerID', 'Customer Age',\n",
              "       'Unit Price', 'Shipping Fee', 'Order Quantity', 'Sale Price', 'Rating'],\n",
              "      dtype='object')"
            ]
          },
          "metadata": {},
          "execution_count": 8
        }
      ]
    },
    {
      "cell_type": "code",
      "source": [
        "df.duplicated().sum()"
      ],
      "metadata": {
        "colab": {
          "base_uri": "https://localhost:8080/"
        },
        "id": "Lg0K5_c5ayHt",
        "outputId": "30eba422-f7ec-4d16-a61f-1a9a6f0e61f5"
      },
      "execution_count": 9,
      "outputs": [
        {
          "output_type": "execute_result",
          "data": {
            "text/plain": [
              "0"
            ]
          },
          "metadata": {},
          "execution_count": 9
        }
      ]
    },
    {
      "cell_type": "code",
      "source": [
        "df.isnull().sum()\n"
      ],
      "metadata": {
        "colab": {
          "base_uri": "https://localhost:8080/"
        },
        "id": "hOk8NLoIa6kT",
        "outputId": "a07303af-9fd1-4202-e860-19457e10ccb7"
      },
      "execution_count": 10,
      "outputs": [
        {
          "output_type": "execute_result",
          "data": {
            "text/plain": [
              "OrderDate               0\n",
              "OrderID                 0\n",
              "Delivery Date           0\n",
              "CustomerID              0\n",
              "Customer Age            0\n",
              "Customer Gender         0\n",
              "Location                0\n",
              "Zone                    0\n",
              "Delivery Type           0\n",
              "Product Category        0\n",
              "SubCategory             0\n",
              "Product                 0\n",
              "Unit Price              0\n",
              "Shipping Fee            0\n",
              "Order Quantity          0\n",
              "Sale Price              0\n",
              "Status                  0\n",
              "Reason              83355\n",
              "Rating                  0\n",
              "dtype: int64"
            ]
          },
          "metadata": {},
          "execution_count": 10
        }
      ]
    },
    {
      "cell_type": "code",
      "source": [
        "df.info()"
      ],
      "metadata": {
        "colab": {
          "base_uri": "https://localhost:8080/"
        },
        "id": "4U3Qc6Wda-r6",
        "outputId": "952685fb-e1ef-42ea-9b28-ffe00067e470"
      },
      "execution_count": 11,
      "outputs": [
        {
          "output_type": "stream",
          "name": "stdout",
          "text": [
            "<class 'pandas.core.frame.DataFrame'>\n",
            "RangeIndex: 113000 entries, 0 to 112999\n",
            "Data columns (total 19 columns):\n",
            " #   Column            Non-Null Count   Dtype         \n",
            "---  ------            --------------   -----         \n",
            " 0   OrderDate         113000 non-null  datetime64[ns]\n",
            " 1   OrderID           113000 non-null  int64         \n",
            " 2   Delivery Date     113000 non-null  datetime64[ns]\n",
            " 3   CustomerID        113000 non-null  int64         \n",
            " 4   Customer Age      113000 non-null  int64         \n",
            " 5   Customer Gender   113000 non-null  object        \n",
            " 6   Location          113000 non-null  object        \n",
            " 7   Zone              113000 non-null  object        \n",
            " 8   Delivery Type     113000 non-null  object        \n",
            " 9   Product Category  113000 non-null  object        \n",
            " 10  SubCategory       113000 non-null  object        \n",
            " 11  Product           113000 non-null  object        \n",
            " 12  Unit Price        113000 non-null  float64       \n",
            " 13  Shipping Fee      113000 non-null  int64         \n",
            " 14  Order Quantity    113000 non-null  int64         \n",
            " 15  Sale Price        113000 non-null  float64       \n",
            " 16  Status            113000 non-null  object        \n",
            " 17  Reason            29645 non-null   object        \n",
            " 18  Rating            113000 non-null  int64         \n",
            "dtypes: datetime64[ns](2), float64(2), int64(6), object(9)\n",
            "memory usage: 16.4+ MB\n"
          ]
        }
      ]
    },
    {
      "cell_type": "code",
      "source": [
        "df.describe()"
      ],
      "metadata": {
        "colab": {
          "base_uri": "https://localhost:8080/",
          "height": 300
        },
        "id": "R1P2o0Rta_7_",
        "outputId": "7be29c12-add6-4ef3-cf02-fb0721e4561d"
      },
      "execution_count": 12,
      "outputs": [
        {
          "output_type": "execute_result",
          "data": {
            "text/plain": [
              "            OrderID    CustomerID   Customer Age     Unit Price  \\\n",
              "count  1.130000e+05  1.130000e+05  113000.000000  113000.000000   \n",
              "mean   5.079973e+06  2.305156e+08      35.919673     297.045871   \n",
              "std    3.263155e+04  3.262048e+04      11.021883     791.260273   \n",
              "min    5.023455e+06  2.304591e+08      17.000000      15.000000   \n",
              "25%    5.051716e+06  2.304874e+08      28.000000      35.000000   \n",
              "50%    5.079970e+06  2.305156e+08      35.000000      75.000000   \n",
              "75%    5.108233e+06  2.305439e+08      43.000000     156.000000   \n",
              "max    5.136490e+06  2.305721e+08      87.000000    4700.000000   \n",
              "\n",
              "        Shipping Fee  Order Quantity     Sale Price         Rating  \n",
              "count  113000.000000   113000.000000  113000.000000  113000.000000  \n",
              "mean       11.500434        5.334814     297.045871       2.729929  \n",
              "std         5.192076        2.924370     791.260273       1.355434  \n",
              "min         3.000000        1.000000      15.000000       1.000000  \n",
              "25%         7.000000        3.000000      35.000000       2.000000  \n",
              "50%        12.000000        5.000000      75.000000       3.000000  \n",
              "75%        16.000000        8.000000     156.000000       4.000000  \n",
              "max        20.000000       10.000000    4700.000000       5.000000  "
            ],
            "text/html": [
              "\n",
              "  <div id=\"df-4e12f6f1-f4a6-4e15-a00a-60898b349b3c\">\n",
              "    <div class=\"colab-df-container\">\n",
              "      <div>\n",
              "<style scoped>\n",
              "    .dataframe tbody tr th:only-of-type {\n",
              "        vertical-align: middle;\n",
              "    }\n",
              "\n",
              "    .dataframe tbody tr th {\n",
              "        vertical-align: top;\n",
              "    }\n",
              "\n",
              "    .dataframe thead th {\n",
              "        text-align: right;\n",
              "    }\n",
              "</style>\n",
              "<table border=\"1\" class=\"dataframe\">\n",
              "  <thead>\n",
              "    <tr style=\"text-align: right;\">\n",
              "      <th></th>\n",
              "      <th>OrderID</th>\n",
              "      <th>CustomerID</th>\n",
              "      <th>Customer Age</th>\n",
              "      <th>Unit Price</th>\n",
              "      <th>Shipping Fee</th>\n",
              "      <th>Order Quantity</th>\n",
              "      <th>Sale Price</th>\n",
              "      <th>Rating</th>\n",
              "    </tr>\n",
              "  </thead>\n",
              "  <tbody>\n",
              "    <tr>\n",
              "      <th>count</th>\n",
              "      <td>1.130000e+05</td>\n",
              "      <td>1.130000e+05</td>\n",
              "      <td>113000.000000</td>\n",
              "      <td>113000.000000</td>\n",
              "      <td>113000.000000</td>\n",
              "      <td>113000.000000</td>\n",
              "      <td>113000.000000</td>\n",
              "      <td>113000.000000</td>\n",
              "    </tr>\n",
              "    <tr>\n",
              "      <th>mean</th>\n",
              "      <td>5.079973e+06</td>\n",
              "      <td>2.305156e+08</td>\n",
              "      <td>35.919673</td>\n",
              "      <td>297.045871</td>\n",
              "      <td>11.500434</td>\n",
              "      <td>5.334814</td>\n",
              "      <td>297.045871</td>\n",
              "      <td>2.729929</td>\n",
              "    </tr>\n",
              "    <tr>\n",
              "      <th>std</th>\n",
              "      <td>3.263155e+04</td>\n",
              "      <td>3.262048e+04</td>\n",
              "      <td>11.021883</td>\n",
              "      <td>791.260273</td>\n",
              "      <td>5.192076</td>\n",
              "      <td>2.924370</td>\n",
              "      <td>791.260273</td>\n",
              "      <td>1.355434</td>\n",
              "    </tr>\n",
              "    <tr>\n",
              "      <th>min</th>\n",
              "      <td>5.023455e+06</td>\n",
              "      <td>2.304591e+08</td>\n",
              "      <td>17.000000</td>\n",
              "      <td>15.000000</td>\n",
              "      <td>3.000000</td>\n",
              "      <td>1.000000</td>\n",
              "      <td>15.000000</td>\n",
              "      <td>1.000000</td>\n",
              "    </tr>\n",
              "    <tr>\n",
              "      <th>25%</th>\n",
              "      <td>5.051716e+06</td>\n",
              "      <td>2.304874e+08</td>\n",
              "      <td>28.000000</td>\n",
              "      <td>35.000000</td>\n",
              "      <td>7.000000</td>\n",
              "      <td>3.000000</td>\n",
              "      <td>35.000000</td>\n",
              "      <td>2.000000</td>\n",
              "    </tr>\n",
              "    <tr>\n",
              "      <th>50%</th>\n",
              "      <td>5.079970e+06</td>\n",
              "      <td>2.305156e+08</td>\n",
              "      <td>35.000000</td>\n",
              "      <td>75.000000</td>\n",
              "      <td>12.000000</td>\n",
              "      <td>5.000000</td>\n",
              "      <td>75.000000</td>\n",
              "      <td>3.000000</td>\n",
              "    </tr>\n",
              "    <tr>\n",
              "      <th>75%</th>\n",
              "      <td>5.108233e+06</td>\n",
              "      <td>2.305439e+08</td>\n",
              "      <td>43.000000</td>\n",
              "      <td>156.000000</td>\n",
              "      <td>16.000000</td>\n",
              "      <td>8.000000</td>\n",
              "      <td>156.000000</td>\n",
              "      <td>4.000000</td>\n",
              "    </tr>\n",
              "    <tr>\n",
              "      <th>max</th>\n",
              "      <td>5.136490e+06</td>\n",
              "      <td>2.305721e+08</td>\n",
              "      <td>87.000000</td>\n",
              "      <td>4700.000000</td>\n",
              "      <td>20.000000</td>\n",
              "      <td>10.000000</td>\n",
              "      <td>4700.000000</td>\n",
              "      <td>5.000000</td>\n",
              "    </tr>\n",
              "  </tbody>\n",
              "</table>\n",
              "</div>\n",
              "      <button class=\"colab-df-convert\" onclick=\"convertToInteractive('df-4e12f6f1-f4a6-4e15-a00a-60898b349b3c')\"\n",
              "              title=\"Convert this dataframe to an interactive table.\"\n",
              "              style=\"display:none;\">\n",
              "        \n",
              "  <svg xmlns=\"http://www.w3.org/2000/svg\" height=\"24px\"viewBox=\"0 0 24 24\"\n",
              "       width=\"24px\">\n",
              "    <path d=\"M0 0h24v24H0V0z\" fill=\"none\"/>\n",
              "    <path d=\"M18.56 5.44l.94 2.06.94-2.06 2.06-.94-2.06-.94-.94-2.06-.94 2.06-2.06.94zm-11 1L8.5 8.5l.94-2.06 2.06-.94-2.06-.94L8.5 2.5l-.94 2.06-2.06.94zm10 10l.94 2.06.94-2.06 2.06-.94-2.06-.94-.94-2.06-.94 2.06-2.06.94z\"/><path d=\"M17.41 7.96l-1.37-1.37c-.4-.4-.92-.59-1.43-.59-.52 0-1.04.2-1.43.59L10.3 9.45l-7.72 7.72c-.78.78-.78 2.05 0 2.83L4 21.41c.39.39.9.59 1.41.59.51 0 1.02-.2 1.41-.59l7.78-7.78 2.81-2.81c.8-.78.8-2.07 0-2.86zM5.41 20L4 18.59l7.72-7.72 1.47 1.35L5.41 20z\"/>\n",
              "  </svg>\n",
              "      </button>\n",
              "      \n",
              "  <style>\n",
              "    .colab-df-container {\n",
              "      display:flex;\n",
              "      flex-wrap:wrap;\n",
              "      gap: 12px;\n",
              "    }\n",
              "\n",
              "    .colab-df-convert {\n",
              "      background-color: #E8F0FE;\n",
              "      border: none;\n",
              "      border-radius: 50%;\n",
              "      cursor: pointer;\n",
              "      display: none;\n",
              "      fill: #1967D2;\n",
              "      height: 32px;\n",
              "      padding: 0 0 0 0;\n",
              "      width: 32px;\n",
              "    }\n",
              "\n",
              "    .colab-df-convert:hover {\n",
              "      background-color: #E2EBFA;\n",
              "      box-shadow: 0px 1px 2px rgba(60, 64, 67, 0.3), 0px 1px 3px 1px rgba(60, 64, 67, 0.15);\n",
              "      fill: #174EA6;\n",
              "    }\n",
              "\n",
              "    [theme=dark] .colab-df-convert {\n",
              "      background-color: #3B4455;\n",
              "      fill: #D2E3FC;\n",
              "    }\n",
              "\n",
              "    [theme=dark] .colab-df-convert:hover {\n",
              "      background-color: #434B5C;\n",
              "      box-shadow: 0px 1px 3px 1px rgba(0, 0, 0, 0.15);\n",
              "      filter: drop-shadow(0px 1px 2px rgba(0, 0, 0, 0.3));\n",
              "      fill: #FFFFFF;\n",
              "    }\n",
              "  </style>\n",
              "\n",
              "      <script>\n",
              "        const buttonEl =\n",
              "          document.querySelector('#df-4e12f6f1-f4a6-4e15-a00a-60898b349b3c button.colab-df-convert');\n",
              "        buttonEl.style.display =\n",
              "          google.colab.kernel.accessAllowed ? 'block' : 'none';\n",
              "\n",
              "        async function convertToInteractive(key) {\n",
              "          const element = document.querySelector('#df-4e12f6f1-f4a6-4e15-a00a-60898b349b3c');\n",
              "          const dataTable =\n",
              "            await google.colab.kernel.invokeFunction('convertToInteractive',\n",
              "                                                     [key], {});\n",
              "          if (!dataTable) return;\n",
              "\n",
              "          const docLinkHtml = 'Like what you see? Visit the ' +\n",
              "            '<a target=\"_blank\" href=https://colab.research.google.com/notebooks/data_table.ipynb>data table notebook</a>'\n",
              "            + ' to learn more about interactive tables.';\n",
              "          element.innerHTML = '';\n",
              "          dataTable['output_type'] = 'display_data';\n",
              "          await google.colab.output.renderOutput(dataTable, element);\n",
              "          const docLink = document.createElement('div');\n",
              "          docLink.innerHTML = docLinkHtml;\n",
              "          element.appendChild(docLink);\n",
              "        }\n",
              "      </script>\n",
              "    </div>\n",
              "  </div>\n",
              "  "
            ]
          },
          "metadata": {},
          "execution_count": 12
        }
      ]
    },
    {
      "cell_type": "code",
      "source": [
        ""
      ],
      "metadata": {
        "id": "bAuPT8cy6ZNC"
      },
      "execution_count": null,
      "outputs": []
    }
  ]
}